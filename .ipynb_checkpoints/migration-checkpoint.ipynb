{
 "cells": [
  {
   "cell_type": "code",
   "execution_count": null,
   "id": "0063ffe5",
   "metadata": {},
   "outputs": [],
   "source": [
    "class Migrator:\n",
    "    \n",
    "    df_delta_ = {}\n",
    "    \n",
    "    def __init__(self, config):\n",
    "        self._config = config\n",
    "    \n",
    "    def migrate(self, hmz_fs, file_path, db_host, db_name, db_user, db_pass):\n",
    "        for table in self._config:\n",
    "            self.df_delta_[table] = DeltaTable.forPath(spark, f'{hmz_fs}/{file_path}/{table}_delta')\n",
    "            self.df_delta_[table].toDF().write.format('jdbc') \\\n",
    "            .option(\"url\", f\"jdbc:postgresql://{db_host}/{db_name}\") \\\n",
    "            .option(\"dbtable\", table) \\\n",
    "            .option(\"user\", db_user) \\\n",
    "            .option(\"password\", db_pass) \\\n",
    "            .option(\"driver\", \"org.postgresql.Driver\") \\\n",
    "            .mode(\"overwrite\") \\\n",
    "            .save()\n",
    "    \n"
   ]
  },
  {
   "cell_type": "code",
   "execution_count": null,
   "id": "083af7a3",
   "metadata": {},
   "outputs": [],
   "source": []
  }
 ],
 "metadata": {
  "kernelspec": {
   "display_name": "Python 3 (ipykernel)",
   "language": "python",
   "name": "python3"
  },
  "language_info": {
   "codemirror_mode": {
    "name": "ipython",
    "version": 3
   },
   "file_extension": ".py",
   "mimetype": "text/x-python",
   "name": "python",
   "nbconvert_exporter": "python",
   "pygments_lexer": "ipython3",
   "version": "3.11.5"
  }
 },
 "nbformat": 4,
 "nbformat_minor": 5
}
