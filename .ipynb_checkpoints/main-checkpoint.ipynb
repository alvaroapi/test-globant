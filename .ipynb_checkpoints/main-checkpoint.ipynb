{
 "cells": [
  {
   "cell_type": "code",
   "execution_count": 1,
   "id": "07a58233",
   "metadata": {},
   "outputs": [],
   "source": [
    "import findspark\n",
    "findspark.init('C:\\spark-3.4.1-bin-hadoop3')\n",
    "\n",
    "import pyspark\n",
    "from delta import *\n",
    "\n",
    "builder = pyspark.sql.SparkSession.builder.appName(\"globant_test\") \\\n",
    "    .config(\"spark.sql.extensions\", \"io.delta.sql.DeltaSparkSessionExtension\") \\\n",
    "    .config(\"spark.sql.catalog.spark_catalog\", \"org.apache.spark.sql.delta.catalog.DeltaCatalog\") \\\n",
    "    .config(\"spark.jars.packages\", \"org.apache.hadoop:hadoop-azure:3.3.6,com.microsoft.azure:azure-storage:8.6.6\") \\\n",
    "    .config(\"spark.sql.sources.partitionOverwriteMode\",\"dynamic\") \\\n",
    "    .config(\"spark.jars\", \"%SPARK_HOME%\\jars\\postgresql-42.5.4.jar\") \\\n",
    "\n",
    "spark = configure_spark_with_delta_pip(builder).getOrCreate()"
   ]
  },
  {
   "cell_type": "code",
   "execution_count": 2,
   "id": "1a859545",
   "metadata": {},
   "outputs": [],
   "source": [
    "import configparser\n",
    "config = configparser.RawConfigParser()\n",
    "config.read('config.ini')\n",
    "\n",
    "account_key = config['azure']['accountKey']\n",
    "account_name = config['azure']['accountName']\n",
    "raw_container = config['azure']['rawContainer']\n",
    "silver_container = config['azure']['silverContainer']\n",
    "db_host = config['azure']['dbHost']\n",
    "db_name = config['azure']['dbName']\n",
    "db_user = config['azure']['dbUser']\n",
    "db_pass = config['azure']['dbPass']\n",
    "\n",
    "spark._jsc.hadoopConfiguration().set(f\"fs.azure.account.key.{account_name}.dfs.core.windows.net\", account_key)\n",
    "\n",
    "raw_fs = f'abfss://{raw_container}@{account_name}.dfs.core.windows.net'\n",
    "hmz_fs = f'abfss://{silver_container}@{account_name}.dfs.core.windows.net'\n",
    "file_path = 'globant'"
   ]
  },
  {
   "cell_type": "code",
   "execution_count": 3,
   "id": "66dcdb2e",
   "metadata": {},
   "outputs": [],
   "source": [
    "%run -i harmonize.ipynb"
   ]
  },
  {
   "cell_type": "code",
   "execution_count": 4,
   "id": "2b80a276",
   "metadata": {},
   "outputs": [],
   "source": [
    "%run -i migration.ipynb"
   ]
  },
  {
   "cell_type": "code",
   "execution_count": 5,
   "id": "755a1ec1",
   "metadata": {},
   "outputs": [],
   "source": [
    "hmz = Harminozator()"
   ]
  },
  {
   "cell_type": "code",
   "execution_count": 6,
   "id": "29787983",
   "metadata": {},
   "outputs": [],
   "source": [
    "hmz.harmonize(raw_fs, file_path)\n",
    "hmz.writeSilver(hmz_fs, file_path)"
   ]
  },
  {
   "cell_type": "code",
   "execution_count": 7,
   "id": "b9fb7d55",
   "metadata": {},
   "outputs": [],
   "source": [
    "mig = Migrator(hmz.config)"
   ]
  },
  {
   "cell_type": "code",
   "execution_count": 8,
   "id": "e8eaef37",
   "metadata": {
    "scrolled": true
   },
   "outputs": [],
   "source": [
    "mig.migrate(hmz_fs, file_path, db_host, db_name, db_user, db_pass)"
   ]
  },
  {
   "cell_type": "code",
   "execution_count": 22,
   "id": "9224a964",
   "metadata": {},
   "outputs": [],
   "source": [
    "%run -i Reports.ipynb"
   ]
  },
  {
   "cell_type": "code",
   "execution_count": 17,
   "id": "303c738c",
   "metadata": {
    "scrolled": true
   },
   "outputs": [
    {
     "name": "stdout",
     "output_type": "stream",
     "text": [
      "+---+------------------------+-----+\n",
      "|id |department              |hired|\n",
      "+---+------------------------+-----+\n",
      "|8  |Support                 |221  |\n",
      "|5  |Engineering             |208  |\n",
      "|7  |Services                |204  |\n",
      "|6  |Human Resources         |204  |\n",
      "|4  |Business Development    |187  |\n",
      "|3  |Research and Development|151  |\n",
      "|9  |Marketing               |143  |\n",
      "|10 |Training                |114  |\n",
      "|2  |Sales                   |94   |\n",
      "|11 |Legal                   |57   |\n",
      "|1  |Product Management      |49   |\n",
      "|12 |Accounting              |38   |\n",
      "|-1 |N/D                     |15   |\n",
      "+---+------------------------+-----+\n",
      "\n"
     ]
    }
   ],
   "source": [
    "rpt = Reporter()\n",
    "\n",
    "hired_by_q = rpt.getHiredByQuarter(db_host, db_name, db_user, db_pass)\n",
    "hired_by_q.show(truncate=False)"
   ]
  },
  {
   "cell_type": "code",
   "execution_count": 21,
   "id": "63ffd70f",
   "metadata": {},
   "outputs": [
    {
     "ename": "AttributeError",
     "evalue": "'Reporter' object has no attribute 'getHiredByDepartment'",
     "output_type": "error",
     "traceback": [
      "\u001b[1;31m---------------------------------------------------------------------------\u001b[0m",
      "\u001b[1;31mAttributeError\u001b[0m                            Traceback (most recent call last)",
      "Cell \u001b[1;32mIn[21], line 1\u001b[0m\n\u001b[1;32m----> 1\u001b[0m hired_by_dep \u001b[38;5;241m=\u001b[39m rpt\u001b[38;5;241m.\u001b[39mgetHiredByDepartment(db_host, db_name, db_user, db_pass)\n\u001b[0;32m      2\u001b[0m hired_by_dep\u001b[38;5;241m.\u001b[39mshow(truncate\u001b[38;5;241m=\u001b[39m\u001b[38;5;28;01mFalse\u001b[39;00m)\n",
      "\u001b[1;31mAttributeError\u001b[0m: 'Reporter' object has no attribute 'getHiredByDepartment'"
     ]
    }
   ],
   "source": [
    "hired_by_dep = rpt.getHiredByDepartment(db_host, db_name, db_user, db_pass)\n",
    "hired_by_dep.show(truncate=False)"
   ]
  }
 ],
 "metadata": {
  "kernelspec": {
   "display_name": "Python 3 (ipykernel)",
   "language": "python",
   "name": "python3"
  },
  "language_info": {
   "codemirror_mode": {
    "name": "ipython",
    "version": 3
   },
   "file_extension": ".py",
   "mimetype": "text/x-python",
   "name": "python",
   "nbconvert_exporter": "python",
   "pygments_lexer": "ipython3",
   "version": "3.11.5"
  }
 },
 "nbformat": 4,
 "nbformat_minor": 5
}
