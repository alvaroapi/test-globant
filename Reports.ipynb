{
 "cells": [
  {
   "cell_type": "code",
   "execution_count": 2,
   "id": "4ebc5784",
   "metadata": {},
   "outputs": [],
   "source": [
    "class Reporter:\n",
    "\n",
    "    def getHiredByQuarter(self, db_host, db_name, db_user, db_pass):\n",
    "        \n",
    "        df = spark.read \\\n",
    "        .format(\"jdbc\") \\\n",
    "            .option(\"url\", f\"jdbc:postgresql://{db_host}/{db_name}\") \\\n",
    "            .option(\"dbtable\", \"v_hired_by_quarter\") \\\n",
    "            .option(\"user\", db_user) \\\n",
    "            .option(\"password\", db_pass) \\\n",
    "            .option(\"driver\", \"org.postgresql.Driver\") \\\n",
    "        .load()\n",
    "        \n",
    "        return df\n",
    "    \n",
    "    def getHiredByDepartment(self, db_host, db_name, db_user, db_pass):\n",
    "        \n",
    "        df = spark.read \\\n",
    "        .format(\"jdbc\") \\\n",
    "            .option(\"url\", f\"jdbc:postgresql://{db_host}/{db_name}\") \\\n",
    "            .option(\"dbtable\", \"v_hired_by_department\") \\\n",
    "            .option(\"user\", db_user) \\\n",
    "            .option(\"password\", db_pass) \\\n",
    "            .option(\"driver\", \"org.postgresql.Driver\") \\\n",
    "        .load()\n",
    "        \n",
    "        return df"
   ]
  }
 ],
 "metadata": {
  "kernelspec": {
   "display_name": "Python 3 (ipykernel)",
   "language": "python",
   "name": "python3"
  },
  "language_info": {
   "codemirror_mode": {
    "name": "ipython",
    "version": 3
   },
   "file_extension": ".py",
   "mimetype": "text/x-python",
   "name": "python",
   "nbconvert_exporter": "python",
   "pygments_lexer": "ipython3",
   "version": "3.11.5"
  }
 },
 "nbformat": 4,
 "nbformat_minor": 5
}
