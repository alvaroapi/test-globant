{
 "cells": [
  {
   "cell_type": "code",
   "execution_count": 1,
   "id": "e36198ca",
   "metadata": {},
   "outputs": [],
   "source": [
    "import findspark\n",
    "findspark.init('C:\\spark-3.4.1-bin-hadoop3')\n",
    "\n",
    "import pyspark\n",
    "from delta import *\n",
    "\n",
    "builder = pyspark.sql.SparkSession.builder.appName(\"globant_test\") \\\n",
    "    .config(\"spark.sql.extensions\", \"io.delta.sql.DeltaSparkSessionExtension\") \\\n",
    "    .config(\"spark.sql.catalog.spark_catalog\", \"org.apache.spark.sql.delta.catalog.DeltaCatalog\") \\\n",
    "    .config(\"spark.jars.packages\", \"org.apache.hadoop:hadoop-azure:3.3.6,com.microsoft.azure:azure-storage:8.6.6\") \\\n",
    "    .config(\"spark.sql.sources.partitionOverwriteMode\",\"dynamic\")\n",
    "\n",
    "spark = configure_spark_with_delta_pip(builder).getOrCreate()"
   ]
  },
  {
   "cell_type": "code",
   "execution_count": 2,
   "id": "079ed086",
   "metadata": {},
   "outputs": [],
   "source": [
    "import configparser\n",
    "config = configparser.RawConfigParser()\n",
    "config.read('config.ini')\n",
    "\n",
    "account_key = config['azure']['accountKey']\n",
    "account_name = config['azure']['accountName']\n",
    "raw_container = config['azure']['rawContainer']\n",
    "silver_container = config['azure']['silverContainer']\n",
    "\n",
    "spark._jsc.hadoopConfiguration().set(f\"fs.azure.account.key.{account_name}.dfs.core.windows.net\", account_key)\n",
    "\n",
    "raw_fs = f'abfss://{raw_container}@{account_name}.dfs.core.windows.net'\n",
    "hmz_fs = f'abfss://{silver_container}@{account_name}.dfs.core.windows.net'\n",
    "file_path = 'globant'"
   ]
  },
  {
   "cell_type": "code",
   "execution_count": 3,
   "id": "deb353b6",
   "metadata": {},
   "outputs": [],
   "source": [
    "%run -i harmonize.ipynb"
   ]
  },
  {
   "cell_type": "code",
   "execution_count": 4,
   "id": "21ce7916",
   "metadata": {},
   "outputs": [],
   "source": [
    "hmz.harmonize(raw_fs, file_path)"
   ]
  },
  {
   "cell_type": "code",
   "execution_count": null,
   "id": "7b2098f3",
   "metadata": {},
   "outputs": [],
   "source": [
    "hmz.writeSilver(hmz_fs, file_path)"
   ]
  },
  {
   "cell_type": "code",
   "execution_count": null,
   "id": "dcd102bf",
   "metadata": {},
   "outputs": [],
   "source": []
  }
 ],
 "metadata": {
  "kernelspec": {
   "display_name": "Python 3 (ipykernel)",
   "language": "python",
   "name": "python3"
  },
  "language_info": {
   "codemirror_mode": {
    "name": "ipython",
    "version": 3
   },
   "file_extension": ".py",
   "mimetype": "text/x-python",
   "name": "python",
   "nbconvert_exporter": "python",
   "pygments_lexer": "ipython3",
   "version": "3.11.5"
  }
 },
 "nbformat": 4,
 "nbformat_minor": 5
}
