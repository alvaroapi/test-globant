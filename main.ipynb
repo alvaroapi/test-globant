{
 "cells": [
  {
   "cell_type": "code",
   "execution_count": 1,
   "id": "b91149df",
   "metadata": {},
   "outputs": [],
   "source": [
    "import findspark\n",
    "findspark.init('C:\\spark-3.4.1-bin-hadoop3')\n",
    "\n",
    "import pyspark\n",
    "from delta import *\n",
    "\n",
    "builder = pyspark.sql.SparkSession.builder.appName(\"globant_test\") \\\n",
    "    .config(\"spark.sql.extensions\", \"io.delta.sql.DeltaSparkSessionExtension\") \\\n",
    "    .config(\"spark.sql.catalog.spark_catalog\", \"org.apache.spark.sql.delta.catalog.DeltaCatalog\") \\\n",
    "    .config(\"spark.jars.packages\", \"org.apache.hadoop:hadoop-azure:3.3.6,com.microsoft.azure:azure-storage:8.6.6\") \\\n",
    "    .config(\"spark.sql.sources.partitionOverwriteMode\",\"dynamic\") \\\n",
    "    .config(\"spark.jars\", \"%SPARK_HOME%\\jars\\postgresql-42.5.4.jar\") \\\n",
    "\n",
    "spark = configure_spark_with_delta_pip(builder).getOrCreate()"
   ]
  },
  {
   "cell_type": "code",
   "execution_count": 2,
   "id": "42c9f36f",
   "metadata": {},
   "outputs": [],
   "source": [
    "import configparser\n",
    "config = configparser.RawConfigParser()\n",
    "config.read('config.ini')\n",
    "\n",
    "account_key = config['azure']['accountKey']\n",
    "account_name = config['azure']['accountName']\n",
    "raw_container = config['azure']['rawContainer']\n",
    "silver_container = config['azure']['silverContainer']\n",
    "db_host = config['azure']['dbHost']\n",
    "db_name = config['azure']['dbName']\n",
    "db_user = config['azure']['dbUser']\n",
    "db_pass = config['azure']['dbPass']\n",
    "\n",
    "spark._jsc.hadoopConfiguration().set(f\"fs.azure.account.key.{account_name}.dfs.core.windows.net\", account_key)\n",
    "\n",
    "raw_fs = f'abfss://{raw_container}@{account_name}.dfs.core.windows.net'\n",
    "hmz_fs = f'abfss://{silver_container}@{account_name}.dfs.core.windows.net'\n",
    "file_path = 'globant'"
   ]
  },
  {
   "cell_type": "code",
   "execution_count": 3,
   "id": "43474cbc",
   "metadata": {},
   "outputs": [],
   "source": [
    "%run -i harmonize.ipynb"
   ]
  },
  {
   "cell_type": "code",
   "execution_count": 4,
   "id": "e55d8d92",
   "metadata": {},
   "outputs": [],
   "source": [
    "%run -i migration.ipynb"
   ]
  },
  {
   "cell_type": "code",
   "execution_count": 5,
   "id": "160d7abd",
   "metadata": {},
   "outputs": [],
   "source": [
    "hmz = Harminozator()"
   ]
  },
  {
   "cell_type": "code",
   "execution_count": 6,
   "id": "98c23cd1",
   "metadata": {},
   "outputs": [],
   "source": [
    "hmz.harmonize(raw_fs, file_path)\n",
    "hmz.writeSilver(hmz_fs, file_path)"
   ]
  },
  {
   "cell_type": "code",
   "execution_count": 7,
   "id": "a5524a92",
   "metadata": {},
   "outputs": [],
   "source": [
    "mig = Migrator(hmz.config)"
   ]
  },
  {
   "cell_type": "code",
   "execution_count": 8,
   "id": "97f2a0ce",
   "metadata": {
    "scrolled": true
   },
   "outputs": [],
   "source": [
    "mig.migrate(hmz_fs, file_path, db_host, db_name, db_user, db_pass)"
   ]
  },
  {
   "cell_type": "code",
   "execution_count": 23,
   "id": "69d7ed52",
   "metadata": {},
   "outputs": [],
   "source": [
    "%run -i Reports.ipynb"
   ]
  },
  {
   "cell_type": "code",
   "execution_count": 24,
   "id": "f3546a88",
   "metadata": {
    "scrolled": true
   },
   "outputs": [
    {
     "name": "stdout",
     "output_type": "stream",
     "text": [
      "+----------+-----------------------------+---+---+---+---+\n",
      "|department|job                          |Q1 |Q2 |Q3 |Q4 |\n",
      "+----------+-----------------------------+---+---+---+---+\n",
      "|Accounting|Account Representative IV    |1  |0  |0  |0  |\n",
      "|Accounting|Actuary                      |0  |1  |0  |0  |\n",
      "|Accounting|Analyst Programmer           |0  |0  |1  |0  |\n",
      "|Accounting|Budget/Accounting Analyst III|0  |1  |0  |0  |\n",
      "|Accounting|Cost Accountant              |0  |1  |0  |0  |\n",
      "|Accounting|Database Administrator III   |0  |0  |0  |1  |\n",
      "|Accounting|Desktop Support Technician   |0  |0  |1  |0  |\n",
      "|Accounting|Food Chemist                 |1  |0  |0  |0  |\n",
      "|Accounting|Graphic Designer             |0  |1  |0  |0  |\n",
      "|Accounting|Health Coach III             |0  |0  |0  |1  |\n",
      "|Accounting|Health Coach IV              |0  |0  |1  |0  |\n",
      "|Accounting|Help Desk Technician         |0  |0  |1  |0  |\n",
      "|Accounting|Junior Executive             |0  |0  |1  |0  |\n",
      "|Accounting|Legal Assistant              |0  |0  |1  |1  |\n",
      "|Accounting|Media Manager III            |0  |1  |0  |0  |\n",
      "|Accounting|Programmer Analyst IV        |0  |1  |1  |1  |\n",
      "|Accounting|Programmer III               |0  |0  |1  |0  |\n",
      "|Accounting|Research Assistant IV        |0  |0  |1  |0  |\n",
      "|Accounting|Sales Representative         |1  |0  |1  |0  |\n",
      "|Accounting|Senior Cost Accountant       |0  |0  |0  |1  |\n",
      "+----------+-----------------------------+---+---+---+---+\n",
      "only showing top 20 rows\n",
      "\n"
     ]
    }
   ],
   "source": [
    "rpt = Reporter()\n",
    "\n",
    "hired_by_q = rpt.getHiredByQuarter(db_host, db_name, db_user, db_pass)\n",
    "hired_by_q.show(truncate=False)"
   ]
  },
  {
   "cell_type": "code",
   "execution_count": 25,
   "id": "c21c753c",
   "metadata": {},
   "outputs": [
    {
     "name": "stdout",
     "output_type": "stream",
     "text": [
      "+---+------------------------+-----+\n",
      "|id |department              |hired|\n",
      "+---+------------------------+-----+\n",
      "|8  |Support                 |221  |\n",
      "|5  |Engineering             |208  |\n",
      "|7  |Services                |204  |\n",
      "|6  |Human Resources         |204  |\n",
      "|4  |Business Development    |187  |\n",
      "|3  |Research and Development|151  |\n",
      "|9  |Marketing               |143  |\n",
      "|10 |Training                |114  |\n",
      "|2  |Sales                   |94   |\n",
      "|11 |Legal                   |57   |\n",
      "|1  |Product Management      |49   |\n",
      "|12 |Accounting              |38   |\n",
      "|-1 |N/D                     |15   |\n",
      "+---+------------------------+-----+\n",
      "\n"
     ]
    }
   ],
   "source": [
    "hired_by_dep = rpt.getHiredByDepartment(db_host, db_name, db_user, db_pass)\n",
    "hired_by_dep.show(truncate=False)"
   ]
  }
 ],
 "metadata": {
  "kernelspec": {
   "display_name": "Python 3 (ipykernel)",
   "language": "python",
   "name": "python3"
  },
  "language_info": {
   "codemirror_mode": {
    "name": "ipython",
    "version": 3
   },
   "file_extension": ".py",
   "mimetype": "text/x-python",
   "name": "python",
   "nbconvert_exporter": "python",
   "pygments_lexer": "ipython3",
   "version": "3.11.5"
  }
 },
 "nbformat": 4,
 "nbformat_minor": 5
}
