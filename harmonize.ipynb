{
 "cells": [
  {
   "cell_type": "code",
   "execution_count": 3,
   "id": "171fd83d",
   "metadata": {},
   "outputs": [],
   "source": [
    "from pyspark.sql.types import StructType, StructField, IntegerType, StringType, DateType\n",
    "from pyspark.sql.functions import lit\n",
    "from datetime import datetime\n",
    "\n",
    "class harminozator:\n",
    "    \n",
    "    df_ = {}\n",
    "    df_delta_ = {}\n",
    "    \n",
    "    def __init__(self):\n",
    "        hired_employees_schema = \\\n",
    "                      StructType([ \\\n",
    "                                StructField('id', IntegerType(), True), \\\n",
    "                                StructField('name', StringType(), True), \\\n",
    "                                StructField('datetime', DateType(), True), \\\n",
    "                                StructField('department_id', IntegerType(), True), \\\n",
    "                                StructField('job_id', IntegerType(), True) \\\n",
    "                                ]) \n",
    "\n",
    "        departments_schema = \\\n",
    "                      StructType([ \\\n",
    "                                StructField('id', IntegerType(), True), \\\n",
    "                                StructField('department', StringType(), True) \\\n",
    "                                ])\n",
    "\n",
    "        jobs_schema = StructType([ \\\n",
    "                                StructField('id', IntegerType(), True), \\\n",
    "                                StructField('job', StringType(), True) \\\n",
    "                                ])\n",
    "\n",
    "        self.config = {'hired_employees': hired_employees_schema, 'departments': departments_schema, 'jobs': jobs_schema}\n",
    "    \n",
    "    def harmonize(self, raw_fs, file_path):\n",
    "        current_date = datetime.today().strftime('%Y-%m-%d %H:%M:%S')\n",
    "        \n",
    "        for table, schema in self.config.items():\n",
    "            self.df_[table] = spark.read.csv(f'{raw_fs}/{file_path}/{table}.csv', header=False, schema=schema)\n",
    "            self.df_[table] = self.df_[table].withColumn('update_date', lit(current_date))\n",
    "    \n",
    "    def writeSilver(self, hmz_fs, file_path):\n",
    "        for table in self.config:\n",
    "            if DeltaTable.isDeltaTable(spark, f'{hmz_fs}/{file_path}/{table}_delta'):\n",
    "                self.df_delta_[table] = DeltaTable.forPath(spark, f'{hmz_fs}/{file_path}/{table}_delta')\n",
    "                self.df_delta_[table].alias('current') \\\n",
    "                .merge( \\\n",
    "                        self.df_[table].alias('new'), \\\n",
    "                        condition=\"current.id  = new.id\" \\\n",
    "                ) \\\n",
    "                .whenMatchedUpdateAll() \\\n",
    "                .whenNotMatchedInsertAll() \\\n",
    "                .execute()\n",
    "        \n",
    "                self.df_delta_[table].optimize().executeCompaction()\n",
    "            else:\n",
    "                self.df_[table].write.format(\"delta\").mode(\"overwrite\").save(f'{hmz_fs}/{file_path}/{table}_delta')"
   ]
  },
  {
   "cell_type": "code",
   "execution_count": 4,
   "id": "51b0fbf6",
   "metadata": {},
   "outputs": [
    {
     "name": "stdout",
     "output_type": "stream",
     "text": [
      "{'hired_employees': StructType([StructField('id', IntegerType(), True), StructField('name', StringType(), True), StructField('datetime', DateType(), True), StructField('department_id', IntegerType(), True), StructField('job_id', IntegerType(), True)]), 'departments': StructType([StructField('id', IntegerType(), True), StructField('department', StringType(), True)]), 'jobs': StructType([StructField('id', IntegerType(), True), StructField('job', StringType(), True)])}\n"
     ]
    }
   ],
   "source": [
    "hmz = harminozator()"
   ]
  }
 ],
 "metadata": {
  "kernelspec": {
   "display_name": "Python 3 (ipykernel)",
   "language": "python",
   "name": "python3"
  },
  "language_info": {
   "codemirror_mode": {
    "name": "ipython",
    "version": 3
   },
   "file_extension": ".py",
   "mimetype": "text/x-python",
   "name": "python",
   "nbconvert_exporter": "python",
   "pygments_lexer": "ipython3",
   "version": "3.11.5"
  }
 },
 "nbformat": 4,
 "nbformat_minor": 5
}
